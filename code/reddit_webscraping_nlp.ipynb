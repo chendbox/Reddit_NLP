{
 "cells": [
  {
   "cell_type": "code",
   "execution_count": 1,
   "id": "c8fa6f5c",
   "metadata": {},
   "outputs": [],
   "source": [
    "import requests\n",
    "import time\n",
    "import pandas as pd\n",
    "import sys "
   ]
  },
  {
   "cell_type": "code",
   "execution_count": 2,
   "id": "c4fa2b6d",
   "metadata": {},
   "outputs": [],
   "source": [
    "# set up subreddits list\n",
    "subs = ['cars', 'travel']"
   ]
  },
  {
   "cell_type": "code",
   "execution_count": 3,
   "id": "8987d152",
   "metadata": {},
   "outputs": [
    {
     "name": "stdout",
     "output_type": "stream",
     "text": [
      "Enter number of days for requests: 100\n"
     ]
    }
   ],
   "source": [
    "# set up number of days to gather\n",
    "try:\n",
    "    days = int(sys.argv[1])\n",
    "except:\n",
    "    days = int(input('Enter number of days for requests: '))"
   ]
  },
  {
   "cell_type": "code",
   "execution_count": 4,
   "id": "8b5e4954",
   "metadata": {},
   "outputs": [],
   "source": [
    "# Set API base url (no key needed)\n",
    "base_url =  'https://api.pushshift.io/reddit/'"
   ]
  },
  {
   "cell_type": "code",
   "execution_count": 5,
   "id": "dd3e7a53",
   "metadata": {},
   "outputs": [],
   "source": [
    "# Function to make an individual Pushshift API request\n",
    "# Returns dictionary of the .json API response\n",
    "def request_posts(subreddit, days_ago, base_url=base_url, endpoint='search/submission/'):\n",
    "    try:    \n",
    "        response = requests.get(f'{base_url}{endpoint}?subreddit={subreddit}&before={days_ago}d&after={days_ago+1}d&size=1000')\n",
    "        assert response.status_code == 200\n",
    "    except:\n",
    "        pass\n",
    "    return response"
   ]
  },
  {
   "cell_type": "code",
   "execution_count": 6,
   "id": "b30bd928",
   "metadata": {},
   "outputs": [],
   "source": [
    "# Function to make n requests of 100 posts from n days\n",
    "# Returns dataframe of API responses from a subreddit\n",
    "def make_requests(subreddit, days_of_data):\n",
    "    all_results = []\n",
    "    \n",
    "    for i in range(1, days_of_data):\n",
    "        try:\n",
    "            entry = request_posts(subreddit,i)\n",
    "            all_results.append(pd.DataFrame(entry.json()['data']))\n",
    "        except:\n",
    "            pass\n",
    "        if i % 100 == 0:\n",
    "            print(f'{i} of {days_of_data} requests completed')\n",
    "        time.sleep(0.5)\n",
    "    return pd.concat(all_results)"
   ]
  },
  {
   "cell_type": "code",
   "execution_count": 7,
   "id": "d29ba5c5",
   "metadata": {},
   "outputs": [],
   "source": [
    "# Function to make n requests of 100 posts from n days over m subreddits\n",
    "# Returns dataframe of API responses from all subreddits\n",
    "def request_all_subs(list_of_subreddits, days_of_data):\n",
    "    all_results = []\n",
    "    for sub in list_of_subreddits:\n",
    "        print(f'Querying {sub}...')\n",
    "        sub_df = make_requests(sub,days_of_data)\n",
    "        all_results.append(sub_df)\n",
    "    return pd.concat(all_results)"
   ]
  },
  {
   "cell_type": "code",
   "execution_count": 8,
   "id": "080703fe",
   "metadata": {},
   "outputs": [],
   "source": [
    "# Executes all requests for n days of data across the subreddits list and writes results to a .csv\n",
    "def main(days=days):\n",
    "    df = request_all_subs(subs,days)\n",
    "    df.to_csv('../project_3/subreddit_data.csv', index=False)"
   ]
  },
  {
   "cell_type": "code",
   "execution_count": 9,
   "id": "c267443e",
   "metadata": {},
   "outputs": [
    {
     "name": "stdout",
     "output_type": "stream",
     "text": [
      "Querying cars...\n",
      "Querying travel...\n"
     ]
    }
   ],
   "source": [
    "if __name__ == \"__main__\":\n",
    "    main()"
   ]
  },
  {
   "cell_type": "code",
   "execution_count": null,
   "id": "2539e7b9",
   "metadata": {},
   "outputs": [],
   "source": []
  },
  {
   "cell_type": "code",
   "execution_count": null,
   "id": "9bd0c047",
   "metadata": {},
   "outputs": [],
   "source": []
  },
  {
   "cell_type": "code",
   "execution_count": null,
   "id": "b9b39d7b",
   "metadata": {},
   "outputs": [],
   "source": []
  },
  {
   "cell_type": "code",
   "execution_count": null,
   "id": "12ba188c",
   "metadata": {},
   "outputs": [],
   "source": []
  },
  {
   "cell_type": "code",
   "execution_count": null,
   "id": "516121cb",
   "metadata": {},
   "outputs": [],
   "source": []
  }
 ],
 "metadata": {
  "kernelspec": {
   "display_name": "Python 3",
   "language": "python",
   "name": "python3"
  },
  "language_info": {
   "codemirror_mode": {
    "name": "ipython",
    "version": 3
   },
   "file_extension": ".py",
   "mimetype": "text/x-python",
   "name": "python",
   "nbconvert_exporter": "python",
   "pygments_lexer": "ipython3",
   "version": "3.8.8"
  }
 },
 "nbformat": 4,
 "nbformat_minor": 5
}
