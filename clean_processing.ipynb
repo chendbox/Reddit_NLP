{
 "cells": [
  {
   "cell_type": "code",
   "execution_count": 2,
   "id": "15a61a8b",
   "metadata": {
    "scrolled": true
   },
   "outputs": [
    {
     "name": "stderr",
     "output_type": "stream",
     "text": [
      "/opt/anaconda3/lib/python3.8/site-packages/IPython/core/interactiveshell.py:3165: DtypeWarning: Columns (3,8,19,27,79,80,81,82,83,84) have mixed types.Specify dtype option on import or set low_memory=False.\n",
      "  has_raised = await self.run_ast_nodes(code_ast.body, cell_name,\n"
     ]
    }
   ],
   "source": [
    "import numpy as np\n",
    "import pandas as pd\n",
    "from sklearn.model_selection import train_test_split\n",
    "from sklearn.pipeline import Pipeline\n",
    "from sklearn.model_selection import GridSearchCV\n",
    "from sklearn.feature_extraction.text import TfidfVectorizer\n",
    "from sklearn.tree import DecisionTreeClassifier\n",
    "from sklearn.naive_bayes import MultinomialNB\n",
    "\n",
    "%matplotlib inline\n",
    "\n",
    "df = pd.read_csv('subreddit_data.csv')"
   ]
  },
  {
   "cell_type": "code",
   "execution_count": 3,
   "id": "23b403eb",
   "metadata": {},
   "outputs": [
    {
     "data": {
      "text/plain": [
       "(19500, 85)"
      ]
     },
     "execution_count": 3,
     "metadata": {},
     "output_type": "execute_result"
    }
   ],
   "source": [
    "df.shape"
   ]
  },
  {
   "cell_type": "code",
   "execution_count": 4,
   "id": "afea71d0",
   "metadata": {},
   "outputs": [],
   "source": [
    "df = df[['subreddit', 'selftext', 'title']]"
   ]
  },
  {
   "cell_type": "code",
   "execution_count": 5,
   "id": "7b5f975e",
   "metadata": {},
   "outputs": [],
   "source": [
    "import warnings\n",
    "warnings.filterwarnings('ignore')"
   ]
  },
  {
   "cell_type": "code",
   "execution_count": 6,
   "id": "e5ab091d",
   "metadata": {},
   "outputs": [
    {
     "data": {
      "text/html": [
       "<div>\n",
       "<style scoped>\n",
       "    .dataframe tbody tr th:only-of-type {\n",
       "        vertical-align: middle;\n",
       "    }\n",
       "\n",
       "    .dataframe tbody tr th {\n",
       "        vertical-align: top;\n",
       "    }\n",
       "\n",
       "    .dataframe thead th {\n",
       "        text-align: right;\n",
       "    }\n",
       "</style>\n",
       "<table border=\"1\" class=\"dataframe\">\n",
       "  <thead>\n",
       "    <tr style=\"text-align: right;\">\n",
       "      <th></th>\n",
       "      <th>subreddit</th>\n",
       "      <th>selftext</th>\n",
       "      <th>title</th>\n",
       "    </tr>\n",
       "  </thead>\n",
       "  <tbody>\n",
       "    <tr>\n",
       "      <th>0</th>\n",
       "      <td>cars</td>\n",
       "      <td>[removed]</td>\n",
       "      <td>Looking for an inexpensive bluetooth stereo co...</td>\n",
       "    </tr>\n",
       "    <tr>\n",
       "      <th>1</th>\n",
       "      <td>cars</td>\n",
       "      <td>I personally Think it’s Brooks From Dragtimes ...</td>\n",
       "      <td>Who produces the most underrated Car content o...</td>\n",
       "    </tr>\n",
       "    <tr>\n",
       "      <th>3</th>\n",
       "      <td>cars</td>\n",
       "      <td>I'm considering doing it and would love to hea...</td>\n",
       "      <td>Anyone have any direct experience selling a ca...</td>\n",
       "    </tr>\n",
       "    <tr>\n",
       "      <th>4</th>\n",
       "      <td>cars</td>\n",
       "      <td>I apologize for the rant, but I seriously need...</td>\n",
       "      <td>Can any former or current car dealership mecha...</td>\n",
       "    </tr>\n",
       "    <tr>\n",
       "      <th>6</th>\n",
       "      <td>cars</td>\n",
       "      <td>[removed]</td>\n",
       "      <td>Automotive News: Toyota axing Avalon sedan aft...</td>\n",
       "    </tr>\n",
       "    <tr>\n",
       "      <th>...</th>\n",
       "      <td>...</td>\n",
       "      <td>...</td>\n",
       "      <td>...</td>\n",
       "    </tr>\n",
       "    <tr>\n",
       "      <th>19489</th>\n",
       "      <td>travel</td>\n",
       "      <td>[removed]</td>\n",
       "      <td>Anti-Asian racism</td>\n",
       "    </tr>\n",
       "    <tr>\n",
       "      <th>19490</th>\n",
       "      <td>travel</td>\n",
       "      <td>[removed]</td>\n",
       "      <td>Book The Best Travel journey in UK from Luftha...</td>\n",
       "    </tr>\n",
       "    <tr>\n",
       "      <th>19493</th>\n",
       "      <td>travel</td>\n",
       "      <td>[removed]</td>\n",
       "      <td>Global Entry Question</td>\n",
       "    </tr>\n",
       "    <tr>\n",
       "      <th>19495</th>\n",
       "      <td>travel</td>\n",
       "      <td>Hey guys, in July me and a couple of friends p...</td>\n",
       "      <td>First Time Las Vegas Trip With My Boys.</td>\n",
       "    </tr>\n",
       "    <tr>\n",
       "      <th>19499</th>\n",
       "      <td>travel</td>\n",
       "      <td>Hi, My 2 friends and I (in our late 20s) are l...</td>\n",
       "      <td>Key West, USA, Accommodations Recommendation</td>\n",
       "    </tr>\n",
       "  </tbody>\n",
       "</table>\n",
       "<p>12752 rows × 3 columns</p>\n",
       "</div>"
      ],
      "text/plain": [
       "      subreddit                                           selftext  \\\n",
       "0          cars                                          [removed]   \n",
       "1          cars  I personally Think it’s Brooks From Dragtimes ...   \n",
       "3          cars  I'm considering doing it and would love to hea...   \n",
       "4          cars  I apologize for the rant, but I seriously need...   \n",
       "6          cars                                          [removed]   \n",
       "...         ...                                                ...   \n",
       "19489    travel                                          [removed]   \n",
       "19490    travel                                          [removed]   \n",
       "19493    travel                                          [removed]   \n",
       "19495    travel  Hey guys, in July me and a couple of friends p...   \n",
       "19499    travel  Hi, My 2 friends and I (in our late 20s) are l...   \n",
       "\n",
       "                                                   title  \n",
       "0      Looking for an inexpensive bluetooth stereo co...  \n",
       "1      Who produces the most underrated Car content o...  \n",
       "3      Anyone have any direct experience selling a ca...  \n",
       "4      Can any former or current car dealership mecha...  \n",
       "6      Automotive News: Toyota axing Avalon sedan aft...  \n",
       "...                                                  ...  \n",
       "19489                                  Anti-Asian racism  \n",
       "19490  Book The Best Travel journey in UK from Luftha...  \n",
       "19493                              Global Entry Question  \n",
       "19495            First Time Las Vegas Trip With My Boys.  \n",
       "19499       Key West, USA, Accommodations Recommendation  \n",
       "\n",
       "[12752 rows x 3 columns]"
      ]
     },
     "execution_count": 6,
     "metadata": {},
     "output_type": "execute_result"
    }
   ],
   "source": [
    "# drop all missing values\n",
    "df.dropna()"
   ]
  },
  {
   "cell_type": "code",
   "execution_count": 7,
   "id": "798519e9",
   "metadata": {},
   "outputs": [],
   "source": [
    "df = (df[~df['subreddit'].isna()])\n",
    "df = (df[~df['selftext'].isna()])\n",
    "df = (df[~df['title'].isna()])"
   ]
  },
  {
   "cell_type": "code",
   "execution_count": 8,
   "id": "1fde4985",
   "metadata": {},
   "outputs": [],
   "source": [
    "# remove 'removed', 'deleted'\n",
    "df = df[df['selftext']!= '[removed]']\n",
    "df = df[df['selftext']!='deleted']\n",
    "df = df[~df['selftext'].str.startswith('[removed]')]"
   ]
  },
  {
   "cell_type": "code",
   "execution_count": 9,
   "id": "7284fab1",
   "metadata": {},
   "outputs": [],
   "source": [
    "from bs4 import BeautifulSoup\n",
    "import re\n",
    "import string"
   ]
  },
  {
   "cell_type": "code",
   "execution_count": 10,
   "id": "7391f417",
   "metadata": {},
   "outputs": [],
   "source": [
    "# remove URL by using regex from colums selftext, title\n",
    "df['selftext'] = df['selftext'].str.replace('http[s]?://(?:[a-zA-Z]|[0-9]|[$-_@.&+]|[!*\\(\\),]|(?:%[0-9a-fA-F][0-9a-fA-F]))+', '', regex=True)\n",
    "df['title'] = df['title'].str.replace('http[s]?://(?:[a-zA-Z]|[0-9]|[$-_@.&+]|[!*\\(\\),]|(?:%[0-9a-fA-F][0-9a-fA-F]))+', '', regex=True)"
   ]
  },
  {
   "cell_type": "code",
   "execution_count": 11,
   "id": "90f5195a",
   "metadata": {},
   "outputs": [],
   "source": [
    "# Remove certain reddit markdown issues from title and selftext column\n",
    "for column in ['title','selftext','subreddit']:\n",
    "    df[column] = df[column].str.replace('\\xa0',' ', regex=True).replace('&lt;',' ', regex=True).replace('&gt;',' ', regex=True).replace('&amp;',' ', regex=True).replace('x200B','', regex=True).replace('\\n',' ', regex=True)"
   ]
  },
  {
   "cell_type": "code",
   "execution_count": 12,
   "id": "8d2d496e",
   "metadata": {},
   "outputs": [],
   "source": [
    "# Remove punctuation manually:\n",
    "string.punctuation += '’'\n",
    "df['selftext'] = [\"\".join(l for l in s if l not in string.punctuation) for s in df['selftext']]\n",
    "df['title'] = [\"\".join(l for l in s if l not in string.punctuation) for s in df['title']]\n",
    "df['subreddit'] = [''.join(l for l in s if l not in string.punctuation) for s in df['subreddit']]"
   ]
  },
  {
   "cell_type": "code",
   "execution_count": 13,
   "id": "21d7542a",
   "metadata": {},
   "outputs": [
    {
     "data": {
      "text/plain": [
       "cars      2585\n",
       "travel    2372\n",
       "Name: subreddit, dtype: int64"
      ]
     },
     "execution_count": 13,
     "metadata": {},
     "output_type": "execute_result"
    }
   ],
   "source": [
    "df['subreddit'].value_counts()"
   ]
  },
  {
   "cell_type": "code",
   "execution_count": 14,
   "id": "6a61f396",
   "metadata": {},
   "outputs": [],
   "source": [
    "import matplotlib.pyplot as plt\n",
    "import pandas as pd\n",
    "import seaborn as sns\n",
    "from sklearn.feature_extraction.text import CountVectorizer"
   ]
  },
  {
   "cell_type": "code",
   "execution_count": 15,
   "id": "22b34423",
   "metadata": {},
   "outputs": [],
   "source": [
    "# remove multiple consective blanks or spaces \n",
    "import re\n",
    "df['selftext'] = [re.sub(' +', ' ', text) for text in df['selftext']]\n",
    "df['title'] = [re.sub(' +', ' ', text) for text in df['title']]"
   ]
  },
  {
   "cell_type": "code",
   "execution_count": 16,
   "id": "4a0bc26b",
   "metadata": {},
   "outputs": [
    {
     "data": {
      "text/html": [
       "<div>\n",
       "<style scoped>\n",
       "    .dataframe tbody tr th:only-of-type {\n",
       "        vertical-align: middle;\n",
       "    }\n",
       "\n",
       "    .dataframe tbody tr th {\n",
       "        vertical-align: top;\n",
       "    }\n",
       "\n",
       "    .dataframe thead th {\n",
       "        text-align: right;\n",
       "    }\n",
       "</style>\n",
       "<table border=\"1\" class=\"dataframe\">\n",
       "  <thead>\n",
       "    <tr style=\"text-align: right;\">\n",
       "      <th></th>\n",
       "      <th>subreddit</th>\n",
       "      <th>selftext</th>\n",
       "      <th>title</th>\n",
       "    </tr>\n",
       "  </thead>\n",
       "  <tbody>\n",
       "    <tr>\n",
       "      <th>1</th>\n",
       "      <td>cars</td>\n",
       "      <td>I personally Think its Brooks From Dragtimes o...</td>\n",
       "      <td>Who produces the most underrated Car content o...</td>\n",
       "    </tr>\n",
       "    <tr>\n",
       "      <th>3</th>\n",
       "      <td>cars</td>\n",
       "      <td>Im considering doing it and would love to hear...</td>\n",
       "      <td>Anyone have any direct experience selling a ca...</td>\n",
       "    </tr>\n",
       "    <tr>\n",
       "      <th>4</th>\n",
       "      <td>cars</td>\n",
       "      <td>I apologize for the rant but I seriously need ...</td>\n",
       "      <td>Can any former or current car dealership mecha...</td>\n",
       "    </tr>\n",
       "    <tr>\n",
       "      <th>11</th>\n",
       "      <td>cars</td>\n",
       "      <td>Surely whichever car manufacturer makes one co...</td>\n",
       "      <td>Isnt there a market for a small efficient elec...</td>\n",
       "    </tr>\n",
       "    <tr>\n",
       "      <th>15</th>\n",
       "      <td>cars</td>\n",
       "      <td>What would be a good choice for under 17000 th...</td>\n",
       "      <td>What do you think about Toyota</td>\n",
       "    </tr>\n",
       "  </tbody>\n",
       "</table>\n",
       "</div>"
      ],
      "text/plain": [
       "   subreddit                                           selftext  \\\n",
       "1       cars  I personally Think its Brooks From Dragtimes o...   \n",
       "3       cars  Im considering doing it and would love to hear...   \n",
       "4       cars  I apologize for the rant but I seriously need ...   \n",
       "11      cars  Surely whichever car manufacturer makes one co...   \n",
       "15      cars  What would be a good choice for under 17000 th...   \n",
       "\n",
       "                                                title  \n",
       "1   Who produces the most underrated Car content o...  \n",
       "3   Anyone have any direct experience selling a ca...  \n",
       "4   Can any former or current car dealership mecha...  \n",
       "11  Isnt there a market for a small efficient elec...  \n",
       "15                     What do you think about Toyota  "
      ]
     },
     "execution_count": 16,
     "metadata": {},
     "output_type": "execute_result"
    }
   ],
   "source": [
    "df.head()"
   ]
  },
  {
   "cell_type": "code",
   "execution_count": 17,
   "id": "e17e3776",
   "metadata": {},
   "outputs": [
    {
     "data": {
      "text/plain": [
       "(4957, 3)"
      ]
     },
     "execution_count": 17,
     "metadata": {},
     "output_type": "execute_result"
    }
   ],
   "source": [
    "df.shape"
   ]
  },
  {
   "cell_type": "code",
   "execution_count": 18,
   "id": "ad52833d",
   "metadata": {},
   "outputs": [],
   "source": [
    "# drop rows with df['selftext'] == deleted\n",
    "df = df.loc[df['selftext'] != 'deleted']"
   ]
  },
  {
   "cell_type": "code",
   "execution_count": 19,
   "id": "6c65c917",
   "metadata": {},
   "outputs": [],
   "source": [
    "# just like the nlp lab, we check the lenght and word counts\n",
    "#df['selftext_length'] = df['selftext'].map(lambda x: len(x))"
   ]
  },
  {
   "cell_type": "code",
   "execution_count": 20,
   "id": "7fe1abfb",
   "metadata": {},
   "outputs": [],
   "source": [
    "df['selftext_word_count'] = df['selftext'].map(lambda x: len(x.split()))"
   ]
  },
  {
   "cell_type": "code",
   "execution_count": 21,
   "id": "9a285f03",
   "metadata": {},
   "outputs": [],
   "source": [
    "# check df['title'] has float values , so change to string to do the length count\n",
    "#df['title'] = df['title'].astype(str)"
   ]
  },
  {
   "cell_type": "code",
   "execution_count": 22,
   "id": "9b88b516",
   "metadata": {},
   "outputs": [],
   "source": [
    "#df['title_length'] = df['title'].map(lambda x: len(x))"
   ]
  },
  {
   "cell_type": "code",
   "execution_count": 23,
   "id": "3e1b28fa",
   "metadata": {},
   "outputs": [],
   "source": [
    "#df['title_word_count'] = df['selftext'].map(lambda x: len(x.split()))"
   ]
  },
  {
   "cell_type": "code",
   "execution_count": 24,
   "id": "4eface3b",
   "metadata": {},
   "outputs": [],
   "source": [
    "# remove selftext columns with space\n",
    "#df = df.loc[df['selftext'] != '   ']"
   ]
  },
  {
   "cell_type": "code",
   "execution_count": 25,
   "id": "4d879f1b",
   "metadata": {},
   "outputs": [],
   "source": [
    "#df['selftext'] = df['selftext'].replace('\\s+', ' ', regex=True)"
   ]
  },
  {
   "cell_type": "code",
   "execution_count": 26,
   "id": "77837e97",
   "metadata": {},
   "outputs": [
    {
     "data": {
      "text/plain": [
       "(4863, 4)"
      ]
     },
     "execution_count": 26,
     "metadata": {},
     "output_type": "execute_result"
    }
   ],
   "source": [
    "df.shape"
   ]
  },
  {
   "cell_type": "code",
   "execution_count": 27,
   "id": "903504d4",
   "metadata": {},
   "outputs": [],
   "source": [
    "df.drop([16249, 17566, 11369, 17614],  inplace = True)"
   ]
  },
  {
   "cell_type": "code",
   "execution_count": 28,
   "id": "66d8e3b7",
   "metadata": {},
   "outputs": [
    {
     "data": {
      "text/plain": [
       "9925     While vaccines are starting to be administered...\n",
       "16031    While vaccines are starting to be administered...\n",
       "13034    While vaccines are starting to be administered...\n",
       "19029    While vaccines are starting to be administered...\n",
       "17120    For the last few months weve been getting mult...\n",
       "16400    Sometimes you watch a movie and it hits you so...\n",
       "17217    Hi guys so Im planning a two persons 1 month t...\n",
       "11189     I recently came back from a 5 day trip to vis...\n",
       "11567    Hello I have a problem involving money school ...\n",
       "9598     I want to preface this by saying that this pos...\n",
       "Name: selftext, dtype: object"
      ]
     },
     "execution_count": 28,
     "metadata": {},
     "output_type": "execute_result"
    }
   ],
   "source": [
    "df.sort_values(by='selftext_word_count', ascending= False)['selftext'].head(10)"
   ]
  },
  {
   "cell_type": "code",
   "execution_count": 29,
   "id": "8dd54f26",
   "metadata": {},
   "outputs": [
    {
     "data": {
      "text/html": [
       "<div>\n",
       "<style scoped>\n",
       "    .dataframe tbody tr th:only-of-type {\n",
       "        vertical-align: middle;\n",
       "    }\n",
       "\n",
       "    .dataframe tbody tr th {\n",
       "        vertical-align: top;\n",
       "    }\n",
       "\n",
       "    .dataframe thead th {\n",
       "        text-align: right;\n",
       "    }\n",
       "</style>\n",
       "<table border=\"1\" class=\"dataframe\">\n",
       "  <thead>\n",
       "    <tr style=\"text-align: right;\">\n",
       "      <th></th>\n",
       "      <th>subreddit</th>\n",
       "      <th>selftext</th>\n",
       "      <th>title</th>\n",
       "    </tr>\n",
       "  </thead>\n",
       "  <tbody>\n",
       "    <tr>\n",
       "      <th>1</th>\n",
       "      <td>cars</td>\n",
       "      <td>I personally Think its Brooks From Dragtimes o...</td>\n",
       "      <td>Who produces the most underrated Car content o...</td>\n",
       "    </tr>\n",
       "    <tr>\n",
       "      <th>3</th>\n",
       "      <td>cars</td>\n",
       "      <td>Im considering doing it and would love to hear...</td>\n",
       "      <td>Anyone have any direct experience selling a ca...</td>\n",
       "    </tr>\n",
       "    <tr>\n",
       "      <th>4</th>\n",
       "      <td>cars</td>\n",
       "      <td>I apologize for the rant but I seriously need ...</td>\n",
       "      <td>Can any former or current car dealership mecha...</td>\n",
       "    </tr>\n",
       "    <tr>\n",
       "      <th>11</th>\n",
       "      <td>cars</td>\n",
       "      <td>Surely whichever car manufacturer makes one co...</td>\n",
       "      <td>Isnt there a market for a small efficient elec...</td>\n",
       "    </tr>\n",
       "    <tr>\n",
       "      <th>15</th>\n",
       "      <td>cars</td>\n",
       "      <td>What would be a good choice for under 17000 th...</td>\n",
       "      <td>What do you think about Toyota</td>\n",
       "    </tr>\n",
       "    <tr>\n",
       "      <th>...</th>\n",
       "      <td>...</td>\n",
       "      <td>...</td>\n",
       "      <td>...</td>\n",
       "    </tr>\n",
       "    <tr>\n",
       "      <th>19469</th>\n",
       "      <td>travel</td>\n",
       "      <td>Im hoping to travel to Italy at some point in...</td>\n",
       "      <td>Thoughts on these Italian Cities</td>\n",
       "    </tr>\n",
       "    <tr>\n",
       "      <th>19470</th>\n",
       "      <td>travel</td>\n",
       "      <td>Iceland is now open to fully vaccinated people...</td>\n",
       "      <td>Does anybody have any good recommendations for...</td>\n",
       "    </tr>\n",
       "    <tr>\n",
       "      <th>19478</th>\n",
       "      <td>travel</td>\n",
       "      <td>The title is very vague but I will try to expl...</td>\n",
       "      <td>What are the odds of being able to travel from...</td>\n",
       "    </tr>\n",
       "    <tr>\n",
       "      <th>19495</th>\n",
       "      <td>travel</td>\n",
       "      <td>Hey guys in July me and a couple of friends pl...</td>\n",
       "      <td>First Time Las Vegas Trip With My Boys</td>\n",
       "    </tr>\n",
       "    <tr>\n",
       "      <th>19499</th>\n",
       "      <td>travel</td>\n",
       "      <td>Hi My 2 friends and I in our late 20s are look...</td>\n",
       "      <td>Key West USA Accommodations Recommendation</td>\n",
       "    </tr>\n",
       "  </tbody>\n",
       "</table>\n",
       "<p>4859 rows × 3 columns</p>\n",
       "</div>"
      ],
      "text/plain": [
       "      subreddit                                           selftext  \\\n",
       "1          cars  I personally Think its Brooks From Dragtimes o...   \n",
       "3          cars  Im considering doing it and would love to hear...   \n",
       "4          cars  I apologize for the rant but I seriously need ...   \n",
       "11         cars  Surely whichever car manufacturer makes one co...   \n",
       "15         cars  What would be a good choice for under 17000 th...   \n",
       "...         ...                                                ...   \n",
       "19469    travel   Im hoping to travel to Italy at some point in...   \n",
       "19470    travel  Iceland is now open to fully vaccinated people...   \n",
       "19478    travel  The title is very vague but I will try to expl...   \n",
       "19495    travel  Hey guys in July me and a couple of friends pl...   \n",
       "19499    travel  Hi My 2 friends and I in our late 20s are look...   \n",
       "\n",
       "                                                   title  \n",
       "1      Who produces the most underrated Car content o...  \n",
       "3      Anyone have any direct experience selling a ca...  \n",
       "4      Can any former or current car dealership mecha...  \n",
       "11     Isnt there a market for a small efficient elec...  \n",
       "15                        What do you think about Toyota  \n",
       "...                                                  ...  \n",
       "19469                   Thoughts on these Italian Cities  \n",
       "19470  Does anybody have any good recommendations for...  \n",
       "19478  What are the odds of being able to travel from...  \n",
       "19495             First Time Las Vegas Trip With My Boys  \n",
       "19499         Key West USA Accommodations Recommendation  \n",
       "\n",
       "[4859 rows x 3 columns]"
      ]
     },
     "execution_count": 29,
     "metadata": {},
     "output_type": "execute_result"
    }
   ],
   "source": [
    "df.drop(columns = 'selftext_word_count', axis=1)"
   ]
  },
  {
   "cell_type": "code",
   "execution_count": 30,
   "id": "53f6dcd1",
   "metadata": {},
   "outputs": [],
   "source": [
    "df.to_csv('subreddit_clean.csv')"
   ]
  },
  {
   "cell_type": "code",
   "execution_count": 31,
   "id": "651e000a",
   "metadata": {},
   "outputs": [],
   "source": [
    "# remove non-ASCII characters from title and selftext columns\n",
    "df['title'] = df['title'].str.encode('ascii', errors='ignore').str.decode('ascii')"
   ]
  },
  {
   "cell_type": "code",
   "execution_count": 32,
   "id": "1ae09af8",
   "metadata": {},
   "outputs": [],
   "source": [
    "df['selftext'] = df['selftext'].str.encode('ascii', errors='ignore').str.decode('ascii')"
   ]
  },
  {
   "cell_type": "code",
   "execution_count": 33,
   "id": "57b1d0e4",
   "metadata": {
    "scrolled": true
   },
   "outputs": [
    {
     "data": {
      "text/html": [
       "<div>\n",
       "<style scoped>\n",
       "    .dataframe tbody tr th:only-of-type {\n",
       "        vertical-align: middle;\n",
       "    }\n",
       "\n",
       "    .dataframe tbody tr th {\n",
       "        vertical-align: top;\n",
       "    }\n",
       "\n",
       "    .dataframe thead th {\n",
       "        text-align: right;\n",
       "    }\n",
       "</style>\n",
       "<table border=\"1\" class=\"dataframe\">\n",
       "  <thead>\n",
       "    <tr style=\"text-align: right;\">\n",
       "      <th></th>\n",
       "      <th>subreddit</th>\n",
       "      <th>selftext</th>\n",
       "      <th>title</th>\n",
       "      <th>selftext_word_count</th>\n",
       "    </tr>\n",
       "  </thead>\n",
       "  <tbody>\n",
       "    <tr>\n",
       "      <th>1</th>\n",
       "      <td>cars</td>\n",
       "      <td>I personally Think its Brooks From Dragtimes o...</td>\n",
       "      <td>Who produces the most underrated Car content o...</td>\n",
       "      <td>24</td>\n",
       "    </tr>\n",
       "    <tr>\n",
       "      <th>3</th>\n",
       "      <td>cars</td>\n",
       "      <td>Im considering doing it and would love to hear...</td>\n",
       "      <td>Anyone have any direct experience selling a ca...</td>\n",
       "      <td>29</td>\n",
       "    </tr>\n",
       "    <tr>\n",
       "      <th>4</th>\n",
       "      <td>cars</td>\n",
       "      <td>I apologize for the rant but I seriously need ...</td>\n",
       "      <td>Can any former or current car dealership mecha...</td>\n",
       "      <td>373</td>\n",
       "    </tr>\n",
       "    <tr>\n",
       "      <th>11</th>\n",
       "      <td>cars</td>\n",
       "      <td>Surely whichever car manufacturer makes one co...</td>\n",
       "      <td>Isnt there a market for a small efficient elec...</td>\n",
       "      <td>67</td>\n",
       "    </tr>\n",
       "    <tr>\n",
       "      <th>15</th>\n",
       "      <td>cars</td>\n",
       "      <td>What would be a good choice for under 17000 th...</td>\n",
       "      <td>What do you think about Toyota</td>\n",
       "      <td>28</td>\n",
       "    </tr>\n",
       "  </tbody>\n",
       "</table>\n",
       "</div>"
      ],
      "text/plain": [
       "   subreddit                                           selftext  \\\n",
       "1       cars  I personally Think its Brooks From Dragtimes o...   \n",
       "3       cars  Im considering doing it and would love to hear...   \n",
       "4       cars  I apologize for the rant but I seriously need ...   \n",
       "11      cars  Surely whichever car manufacturer makes one co...   \n",
       "15      cars  What would be a good choice for under 17000 th...   \n",
       "\n",
       "                                                title  selftext_word_count  \n",
       "1   Who produces the most underrated Car content o...                   24  \n",
       "3   Anyone have any direct experience selling a ca...                   29  \n",
       "4   Can any former or current car dealership mecha...                  373  \n",
       "11  Isnt there a market for a small efficient elec...                   67  \n",
       "15                     What do you think about Toyota                   28  "
      ]
     },
     "execution_count": 33,
     "metadata": {},
     "output_type": "execute_result"
    }
   ],
   "source": [
    "df.head()"
   ]
  },
  {
   "cell_type": "code",
   "execution_count": null,
   "id": "3aabe5d3",
   "metadata": {},
   "outputs": [],
   "source": [
    "# remove stop words\n",
    "from nltk.corpus import stopwords\n",
    "stop = stopwords.words('english')\n",
    "df['title'] = df['title'].apply(lambda x: ' '.join(x for x in x.split() if x not in stop))\n",
    "df['selftext'] = df['selftext'].apply(lambda x: ' '.join(x for x in x.split() if x not in stop))"
   ]
  },
  {
   "cell_type": "code",
   "execution_count": null,
   "id": "04db6b48",
   "metadata": {},
   "outputs": [],
   "source": [
    "import pandas as pd\n",
    "df.to_csv('clean_final_data.csv')"
   ]
  }
 ],
 "metadata": {
  "kernelspec": {
   "display_name": "Python 3",
   "language": "python",
   "name": "python3"
  },
  "language_info": {
   "codemirror_mode": {
    "name": "ipython",
    "version": 3
   },
   "file_extension": ".py",
   "mimetype": "text/x-python",
   "name": "python",
   "nbconvert_exporter": "python",
   "pygments_lexer": "ipython3",
   "version": "3.8.8"
  }
 },
 "nbformat": 4,
 "nbformat_minor": 5
}
